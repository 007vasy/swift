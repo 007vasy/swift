{
  "nbformat": 4,
  "nbformat_minor": 0,
  "metadata": {
    "colab": {
      "name": "Demo 4 - MiniGo.ipynb",
      "version": "0.3.2",
      "provenance": [],
      "collapsed_sections": [],
      "include_colab_link": true
    },
    "kernelspec": {
      "name": "swift",
      "display_name": "Swift"
    },
    "accelerator": "GPU"
  },
  "cells": [
    {
      "cell_type": "markdown",
      "metadata": {
        "id": "view-in-github",
        "colab_type": "text"
      },
      "source": [
        "<a href=\"https://colab.research.google.com/gist/rxwei/2e4f5213167d1fe868e74ade3055c493/demo-4-minigo.ipynb\" target=\"_parent\"><img src=\"https://colab.research.google.com/assets/colab-badge.svg\" alt=\"Open In Colab\"/></a>"
      ]
    },
    {
      "cell_type": "markdown",
      "metadata": {
        "id": "vvThQ0VQuqia",
        "colab_type": "text"
      },
      "source": [
        "# MiniGo\n",
        "\n",
        "## Install MiniGo via Swift Package Manager"
      ]
    },
    {
      "cell_type": "code",
      "metadata": {
        "id": "kZRlD4utdPuX",
        "colab_type": "code",
        "colab": {}
      },
      "source": [
        "%install-swiftpm-flags -c release -Xlinker -ltensorflow\n",
        "%install '.package(url: \"https://github.com/tensorflow/swift-models\", .branch(\"io19\"))' MiniGo"
      ],
      "execution_count": 0,
      "outputs": []
    },
    {
      "cell_type": "markdown",
      "metadata": {
        "id": "-F8wO28u4GTg",
        "colab_type": "text"
      },
      "source": [
        "## Load pre-trained model"
      ]
    },
    {
      "cell_type": "code",
      "metadata": {
        "id": "oymcNgLbzA5B",
        "colab_type": "code",
        "colab": {}
      },
      "source": [
        "import TensorFlow\n",
        "import MiniGo\n",
        "import Foundation"
      ],
      "execution_count": 0,
      "outputs": []
    },
    {
      "cell_type": "code",
      "metadata": {
        "id": "V_H8yKDD0HE3",
        "colab_type": "code",
        "colab": {}
      },
      "source": [
        "system(\"\"\"\n",
        "    mkdir -p MiniGo\n",
        "    gsutil cp 'gs://minigo-pub/v15-19x19/models/000939-heron.*' MiniGo/\n",
        "    \"\"\")"
      ],
      "execution_count": 0,
      "outputs": []
    },
    {
      "cell_type": "code",
      "metadata": {
        "id": "0BfkOO8j2Xvh",
        "colab_type": "code",
        "colab": {}
      },
      "source": [
        "let boardSize = 19\n",
        "let modelConfig = ModelConfiguration(boardSize: boardSize)\n",
        "var model = GoModel(configuration: modelConfig)\n",
        "\n",
        "let reader = PythonCheckpointReader(path: \"MiniGo/000939-heron\")\n",
        "model.load(from: reader)"
      ],
      "execution_count": 0,
      "outputs": []
    },
    {
      "cell_type": "markdown",
      "metadata": {
        "id": "7i5YNqexvFtf",
        "colab_type": "text"
      },
      "source": [
        "## Configure game"
      ]
    },
    {
      "cell_type": "code",
      "metadata": {
        "id": "jBJfv3IN3dfg",
        "colab_type": "code",
        "colab": {}
      },
      "source": [
        "let simulationCountForOneMove = 40\n",
        "\n",
        "let config = GameConfiguration(\n",
        "    size: boardSize,\n",
        "    komi: 7.5,\n",
        "    isVerboseDebuggingEnabled: false\n",
        ")\n",
        "\n",
        "let predictor = MCTSModelBasedPredictor(boardSize: boardSize, model: model)\n",
        "\n",
        "let mctsConfiguration = MCTSConfiguration(\n",
        "    gameConfiguration: config,\n",
        "    simulationCountForOneMove: simulationCountForOneMove\n",
        ")"
      ],
      "execution_count": 0,
      "outputs": []
    },
    {
      "cell_type": "markdown",
      "metadata": {
        "id": "Ruu34l8HvJCg",
        "colab_type": "text"
      },
      "source": [
        "## Play!"
      ]
    },
    {
      "cell_type": "code",
      "metadata": {
        "id": "hE32niWM3gyL",
        "colab_type": "code",
        "colab": {}
      },
      "source": [
        "try playOneGame(\n",
        "    gameConfiguration: config,\n",
        "    participants: [\n",
        "        MCTSPolicy(participantName: \"black\", predictor: predictor,\n",
        "                   configuration: mctsConfiguration),\n",
        "        MCTSPolicy(participantName: \"white\", predictor: predictor,\n",
        "                   configuration: mctsConfiguration),\n",
        "    ])"
      ],
      "execution_count": 0,
      "outputs": []
    },
    {
      "cell_type": "code",
      "metadata": {
        "id": "iWd-Ick7cVZ6",
        "colab_type": "code",
        "colab": {}
      },
      "source": [
        ""
      ],
      "execution_count": 0,
      "outputs": []
    }
  ]
}