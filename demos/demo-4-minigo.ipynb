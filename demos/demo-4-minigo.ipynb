{
 "cells": [
  {
   "cell_type": "markdown",
   "metadata": {
    "colab_type": "text",
    "id": "vvThQ0VQuqia"
   },
   "source": [
    "# MiniGo\n",
    "\n",
    "## 使用 Swift 软件包管理器安装 MiniGo"
   ]
  },
  {
   "cell_type": "code",
   "execution_count": 1,
   "metadata": {
    "colab": {},
    "colab_type": "code",
    "id": "kZRlD4utdPuX"
   },
   "outputs": [
    {
     "name": "stdout",
     "output_type": "stream",
     "text": [
      "Installing packages:\n",
      "\t.package(url: \"https://github.com/tensorflow/swift-models\", .branch(\"tf-roadshow-19\"))\n",
      "\t\tMiniGo\n",
      "With SwiftPM flags: ['-c', 'release', '-Xlinker', '-ltensorflow']\n",
      "Working in: /tmp/tmp8wafobuy/swift-install\n",
      "Fetching https://github.com/tensorflow/swift-models\n",
      "Cloning https://github.com/tensorflow/swift-models\n",
      "Resolving https://github.com/tensorflow/swift-models at tf-roadshow-19\n",
      "[1/2] Compiling MiniGo Board.swift\n",
      "/tmp/tmp8wafobuy/swift-install/package/.build/checkouts/swift-models/MiniGo/Models/GoModel.swift:56:21: warning: 'init(filterShape:strides:padding:dilations:activation:seed:)' is deprecated: This API will be removed after Swift for TensorFlow 0.4, please consider using\n",
      "`init(filterShape:strides:padding:dilations:activation:filterIntializer:biasInitializer:)`\n",
      "instead.\n",
      "        self.conv = Conv2D(filterShape: filterShape, strides: strides, padding: padding)\n",
      "                    ^\n",
      "[2/3] Compiling jupyterInstalledPackages jupyterInstalledPackages.swift\n",
      "[3/3] Linking libjupyterInstalledPackages.so\n",
      "Initializing Swift...\n",
      "Installation complete!\n"
     ]
    }
   ],
   "source": [
    "%install-swiftpm-flags -c release -Xlinker -ltensorflow\n",
    "%install '.package(url: \"https://github.com/tensorflow/swift-models\", .branch(\"tf-roadshow-19\"))' MiniGo"
   ]
  },
  {
   "cell_type": "markdown",
   "metadata": {
    "colab_type": "text",
    "id": "-F8wO28u4GTg"
   },
   "source": [
    "## 导入现有模型"
   ]
  },
  {
   "cell_type": "code",
   "execution_count": 2,
   "metadata": {
    "colab": {},
    "colab_type": "code",
    "id": "oymcNgLbzA5B"
   },
   "outputs": [],
   "source": [
    "import TensorFlow\n",
    "import MiniGo\n",
    "import Foundation"
   ]
  },
  {
   "cell_type": "code",
   "execution_count": 3,
   "metadata": {
    "colab": {},
    "colab_type": "code",
    "id": "V_H8yKDD0HE3"
   },
   "outputs": [
    {
     "name": "stdout",
     "output_type": "stream",
     "text": [
      "Copying gs://minigo-pub/v15-19x19/models/000939-heron.data-00000-of-00001...\n",
      "==> NOTE: You are downloading one or more large file(s), which would            \n",
      "run significantly faster if you enabled sliced object downloads. This\n",
      "feature is enabled by default but requires that compiled crcmod be\n",
      "installed (see \"gsutil help crcmod\").\n",
      "\n",
      "Copying gs://minigo-pub/v15-19x19/models/000939-heron.index...                  \n",
      "Copying gs://minigo-pub/v15-19x19/models/000939-heron.meta...                   \n",
      "Copying gs://minigo-pub/v15-19x19/models/000939-heron.pb...                     \n",
      "/ [4 files][266.2 MiB/266.2 MiB]    5.8 MiB/s                                   \n",
      "Operation completed over 4 objects/266.2 MiB.                                    \n"
     ]
    },
    {
     "data": {
      "text/plain": [
       "0\n"
      ]
     },
     "execution_count": 3,
     "metadata": {},
     "output_type": "execute_result"
    }
   ],
   "source": [
    "system(\"\"\"\n",
    "    mkdir -p MiniGo\n",
    "    gsutil cp 'gs://minigo-pub/v15-19x19/models/000939-heron.*' MiniGo/\n",
    "    \"\"\")"
   ]
  },
  {
   "cell_type": "code",
   "execution_count": 4,
   "metadata": {
    "colab": {},
    "colab_type": "code",
    "id": "0BfkOO8j2Xvh"
   },
   "outputs": [],
   "source": [
    "let boardSize = 19\n",
    "let modelConfig = ModelConfiguration(boardSize: boardSize)\n",
    "var model = GoModel(configuration: modelConfig)\n",
    "\n",
    "let reader = PythonCheckpointReader(path: \"MiniGo/000939-heron\")\n",
    "model.load(from: reader)"
   ]
  },
  {
   "cell_type": "markdown",
   "metadata": {
    "colab_type": "text",
    "id": "7i5YNqexvFtf"
   },
   "source": [
    "## 设置游戏"
   ]
  },
  {
   "cell_type": "code",
   "execution_count": 8,
   "metadata": {
    "colab": {},
    "colab_type": "code",
    "id": "jBJfv3IN3dfg"
   },
   "outputs": [],
   "source": [
    "let simulationCountForOneMove = 40\n",
    "\n",
    "let config = GameConfiguration(\n",
    "    size: boardSize,\n",
    "    komi: 7.5,\n",
    "    isVerboseDebuggingEnabled: false\n",
    ")\n",
    "\n",
    "let predictor = MCTSModelBasedPredictor(boardSize: boardSize, model: model)\n",
    "\n",
    "let mctsConfiguration = MCTSConfiguration(\n",
    "    gameConfiguration: config,\n",
    "    simulationCountForOneMove: simulationCountForOneMove\n",
    ")"
   ]
  },
  {
   "cell_type": "markdown",
   "metadata": {
    "colab_type": "text",
    "id": "Ruu34l8HvJCg"
   },
   "source": [
    "## 玩一轮"
   ]
  },
  {
   "cell_type": "code",
   "execution_count": 9,
   "metadata": {
    "colab": {},
    "colab_type": "code",
    "id": "hE32niWM3gyL"
   },
   "outputs": [
    {
     "ename": "",
     "evalue": "",
     "output_type": "error",
     "traceback": [
      "error: Execution was interrupted, reason: signal SIGSTOP.\nThe process has been left at the point where it was interrupted, use \"thread return -x\" to return to the state before expression evaluation.\n"
     ]
    }
   ],
   "source": [
    "try playOneGame(\n",
    "    gameConfiguration: config,\n",
    "    participants: [\n",
    "        MCTSPolicy(participantName: \"black\", predictor: predictor,\n",
    "                   configuration: mctsConfiguration),\n",
    "        MCTSPolicy(participantName: \"white\", predictor: predictor,\n",
    "                   configuration: mctsConfiguration),\n",
    "    ])"
   ]
  },
  {
   "cell_type": "code",
   "execution_count": null,
   "metadata": {},
   "outputs": [],
   "source": []
  }
 ],
 "metadata": {
  "accelerator": "GPU",
  "colab": {
   "collapsed_sections": [],
   "include_colab_link": true,
   "name": "Demo 4 - MiniGo.ipynb",
   "provenance": [],
   "version": "0.3.2"
  },
  "kernelspec": {
   "display_name": "Swift",
   "language": "swift",
   "name": "swift"
  },
  "language_info": {
   "file_extension": ".swift",
   "mimetype": "text/x-swift",
   "name": "swift",
   "version": ""
  }
 },
 "nbformat": 4,
 "nbformat_minor": 1
}
