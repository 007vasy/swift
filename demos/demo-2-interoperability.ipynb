{
 "cells": [
  {
   "cell_type": "markdown",
   "metadata": {
    "colab_type": "text",
    "id": "-1IIvuOcU3nO"
   },
   "source": [
    "# 语言交互"
   ]
  },
  {
   "cell_type": "markdown",
   "metadata": {
    "colab_type": "text",
    "id": "KLJOEl93eyn7"
   },
   "source": [
    "## 直接导入 Python"
   ]
  },
  {
   "cell_type": "code",
   "execution_count": 1,
   "metadata": {
    "colab": {},
    "colab_type": "code",
    "id": "kZRlD4utdPuX"
   },
   "outputs": [],
   "source": [
    "import Python"
   ]
  },
  {
   "cell_type": "code",
   "execution_count": 4,
   "metadata": {
    "colab": {},
    "colab_type": "code",
    "id": "F6DdXZTcesgD"
   },
   "outputs": [
    {
     "data": {
      "text/plain": [
       "('inline', 'module://ipykernel.pylab.backend_inline')\n"
      ]
     },
     "execution_count": 4,
     "metadata": {},
     "output_type": "execute_result"
    }
   ],
   "source": [
    "let np = Python.import(\"numpy\")\n",
    "let plt = Python.import(\"matplotlib.pyplot\")\n",
    "\n",
    "// Also enable Jupyter's display capabilities.\n",
    "%include \"EnableIPythonDisplay.swift\"\n",
    "IPythonDisplay.shell.enable_matplotlib(\"inline\")"
   ]
  },
  {
   "cell_type": "code",
   "execution_count": 5,
   "metadata": {
    "colab": {},
    "colab_type": "code",
    "id": "i4FLCl5peuL9"
   },
   "outputs": [
    {
     "data": {
      "image/png": "[encoded data removed]",
      "text/plain": [
       "<Figure size 432x288 with 1 Axes>"
      ]
     },
     "metadata": {},
     "output_type": "display_data"
    },
    {
     "data": {
      "text/plain": [
       "None\n"
      ]
     },
     "execution_count": 5,
     "metadata": {},
     "output_type": "execute_result"
    }
   ],
   "source": [
    "let x = np.linspace(0, 10, 100)\n",
    "\n",
    "plt.plot(x, np.sin(x))\n",
    "plt.plot(x, np.cos(x))\n",
    "\n",
    "plt.show()"
   ]
  },
  {
   "cell_type": "markdown",
   "metadata": {
    "colab_type": "text",
    "id": "wY8zcF8YxyEe"
   },
   "source": [
    "## 用 Python 玩 AI 游戏"
   ]
  },
  {
   "cell_type": "code",
   "execution_count": 6,
   "metadata": {
    "colab": {},
    "colab_type": "code",
    "id": "KtlPQ2qh_4gZ"
   },
   "outputs": [],
   "source": [
    "let gym = Python.import(\"gym\")"
   ]
  },
  {
   "cell_type": "code",
   "execution_count": 7,
   "metadata": {
    "colab": {},
    "colab_type": "code",
    "id": "_DWYozGH_8f3"
   },
   "outputs": [],
   "source": [
    "import TensorFlow\n",
    "\n",
    "/// Model parameters and hyperparameters.\n",
    "let hiddenSize = 128\n",
    "let batchSize = 16\n",
    "/// Controls the amount of good/long episodes to retain for training.\n",
    "let percentile = 70\n",
    "\n",
    "/// An episode is a list of steps, where each step records the observation from\n",
    "/// env and the action taken. They will serve respectively as the input and\n",
    "/// target (label) of the neural net training.\n",
    "struct Episode {\n",
    "    struct Step {\n",
    "        let observation: Tensor<Float>\n",
    "        let action: Int32\n",
    "    }\n",
    "\n",
    "    let steps: [Step]\n",
    "    let reward: Float\n",
    "}\n",
    "\n",
    "/// Filtering out bad/short episodes before we feed them as neural net training data.\n",
    "func filteringBatch(\n",
    "  episodes: [Episode],\n",
    "  actionCount: Int\n",
    ") -> (input: Tensor<Float>, target: Tensor<Float>, episodeCount: Int, meanReward: Float) {\n",
    "    let rewards = episodes.map { $0.reward }\n",
    "    let rewardBound = Float(np.percentile(rewards, percentile))!\n",
    "    print(\"rewardBound = \\(rewardBound)\")\n",
    "\n",
    "    var input = Tensor<Float>(0.0)\n",
    "    var target = Tensor<Float>(0.0)\n",
    "    var totalReward: Float = 0.0\n",
    "\n",
    "    var retainedEpisodeCount = 0\n",
    "    for episode in episodes {\n",
    "        if episode.reward < rewardBound {\n",
    "            continue\n",
    "        }\n",
    "\n",
    "        let observationTensor = Tensor<Float>(episode.steps.map { $0.observation })\n",
    "        let actionTensor = Tensor<Int32>(episode.steps.map { $0.action })\n",
    "        let oneHotLabels = Tensor<Float>(oneHotAtIndices: actionTensor, depth: actionCount)\n",
    "\n",
    "        if retainedEpisodeCount == 0 {\n",
    "            input = observationTensor\n",
    "            target = oneHotLabels\n",
    "        } else {\n",
    "            input = input.concatenated(with: observationTensor)\n",
    "            target = target.concatenated(with: oneHotLabels)\n",
    "        }\n",
    "\n",
    "        totalReward += episode.reward\n",
    "        retainedEpisodeCount += 1\n",
    "    }\n",
    "\n",
    "    return (input, target, retainedEpisodeCount, totalReward / Float(retainedEpisodeCount))\n",
    "}\n",
    "\n",
    "struct CartPoleEnvironment {\n",
    "    let env: PythonObject\n",
    "    func reset() -> Tensor<Float> {\n",
    "        return Tensor<Float>(Tensor<Double>(numpy: env.reset())!)\n",
    "    }\n",
    "    func step(_ action: Int32) -> (Tensor<Float>, Float, Bool) {\n",
    "        let (nextObservation, reward, isDone, _) = env.step(Int(action)).tuple4\n",
    "        return (\n",
    "            Tensor<Float>(Tensor<Double>(numpy: nextObservation)!),\n",
    "            Float(reward)!, Bool(isDone)!)\n",
    "    }\n",
    "}\n",
    "\n",
    "extension Tensor where Scalar: TensorFlowFloatingPoint {\n",
    "    func categorical(samples: Int) -> Tensor<Int32> {\n",
    "        let logits = self.rank == 1 ? self.reshaped(to: [1, self.shape[0]]) : self\n",
    "        return Raw.multinomial(\n",
    "            logits: logits,\n",
    "            numSamples: Tensor<Int32>(Int32(samples)))\n",
    "    }\n",
    "}"
   ]
  },
  {
   "cell_type": "markdown",
   "metadata": {
    "colab_type": "text",
    "id": "KnT7vamXWFnN"
   },
   "source": [
    "### 神经网络"
   ]
  },
  {
   "cell_type": "code",
   "execution_count": 9,
   "metadata": {
    "colab": {},
    "colab_type": "code",
    "id": "g2gbhNcEWJ4B"
   },
   "outputs": [],
   "source": [
    "/// A simple two layer dense neural net.\n",
    "struct Net: Layer {\n",
    "    typealias Input = Tensor<Float>\n",
    "    typealias Output = Tensor<Float>\n",
    "\n",
    "    var l1, l2: Dense<Float>\n",
    "\n",
    "    init(observationSize: Int, hiddenSize: Int, actionCount: Int) {\n",
    "        l1 = Dense<Float>(inputSize: observationSize, outputSize: hiddenSize, activation: relu)\n",
    "        l2 = Dense<Float>(inputSize: hiddenSize, outputSize: actionCount)\n",
    "    }\n",
    "\n",
    "    @differentiable\n",
    "    func callAsFunction(_ input: Input) -> Output {\n",
    "        return input.sequenced(through: l1, l2)\n",
    "    }\n",
    "}"
   ]
  },
  {
   "cell_type": "markdown",
   "metadata": {
    "colab_type": "text",
    "id": "ddpadylwWKoL"
   },
   "source": [
    "### 观察与行动"
   ]
  },
  {
   "cell_type": "code",
   "execution_count": 10,
   "metadata": {
    "colab": {},
    "colab_type": "code",
    "id": "nNj_oYbBWv4a"
   },
   "outputs": [],
   "source": [
    "func nextBatch(env: CartPoleEnvironment, net: Net, batchSize: Int, actionCount: Int) -> [Episode] {\n",
    "    var observation = env.reset()\n",
    "\n",
    "    var episodes: [Episode] = []\n",
    "\n",
    "    // Build up a batch of observations and actions.\n",
    "    for _ in 0..<batchSize {\n",
    "        var steps: [Episode.Step] = []\n",
    "        var episodeReward: Float = 0.0\n",
    "\n",
    "        // This loop runs one episode.\n",
    "        while true {\n",
    "            let action = net(observation.reshaped(to: [1, 4])).categorical(samples: 1).scalarized()\n",
    "            let (nextObservation, reward, isDone) = env.step(action)\n",
    "            steps.append(Episode.Step(observation: observation, action: action))\n",
    "\n",
    "            episodeReward += reward\n",
    "\n",
    "            if isDone == true {\n",
    "                episodes.append(Episode(steps: steps, reward: episodeReward))\n",
    "                observation = env.reset()\n",
    "                break\n",
    "            } else {\n",
    "                observation = nextObservation\n",
    "            }\n",
    "        }\n",
    "    }\n",
    "\n",
    "    return episodes\n",
    "}"
   ]
  },
  {
   "cell_type": "markdown",
   "metadata": {
    "colab_type": "text",
    "id": "ZBrWcVm9Yn2w"
   },
   "source": [
    "### 设置游戏环境"
   ]
  },
  {
   "cell_type": "code",
   "execution_count": 11,
   "metadata": {
    "colab": {},
    "colab_type": "code",
    "id": "lVdddhwUYpnE"
   },
   "outputs": [],
   "source": [
    "let env = CartPoleEnvironment(env: gym.make(\"CartPole-v0\"))\n",
    "let observationSize = Int(env.env.observation_space.shape[0])!\n",
    "let actionCount = Int(env.env.action_space.n)!\n",
    "var meanRewards: [Float] = []\n",
    "\n",
    "var net = Net(observationSize: Int(observationSize), hiddenSize: hiddenSize, actionCount: actionCount)\n",
    "let optimizer = Adam(for: net, learningRate: 0.01)\n",
    "var batchIndex = 0"
   ]
  },
  {
   "cell_type": "markdown",
   "metadata": {
    "colab_type": "text",
    "id": "tNyB7mv3WvYz"
   },
   "source": [
    "### 训练算法"
   ]
  },
  {
   "cell_type": "code",
   "execution_count": 12,
   "metadata": {
    "colab": {},
    "colab_type": "code",
    "id": "hUpqlZTLx0LX"
   },
   "outputs": [
    {
     "name": "stdout",
     "output_type": "stream",
     "text": [
      "Processing mini batch 0\n",
      "rewardBound = 20.0\n",
      "loss is 0.67649126\n",
      "It has episode count 5 and mean reward 24.6\n",
      "Processing mini batch 1\n",
      "rewardBound = 25.0\n",
      "loss is 0.67553836\n",
      "It has episode count 5 and mean reward 33.8\n",
      "Processing mini batch 2\n",
      "rewardBound = 17.5\n",
      "loss is 0.67859566\n",
      "It has episode count 5 and mean reward 26.4\n",
      "Processing mini batch 3\n",
      "rewardBound = 22.5\n",
      "loss is 0.6876042\n",
      "It has episode count 5 and mean reward 35.0\n",
      "Processing mini batch 4\n",
      "rewardBound = 24.0\n",
      "loss is 0.6698061\n",
      "It has episode count 6 and mean reward 31.5\n",
      "Processing mini batch 5\n",
      "rewardBound = 40.5\n",
      "loss is 0.6727366\n",
      "It has episode count 5 and mean reward 48.2\n",
      "Processing mini batch 6\n",
      "rewardBound = 34.5\n",
      "loss is 0.6546298\n",
      "It has episode count 5 and mean reward 49.2\n",
      "Processing mini batch 7\n",
      "rewardBound = 37.5\n",
      "loss is 0.65005106\n",
      "It has episode count 5 and mean reward 78.8\n",
      "Processing mini batch 8\n",
      "rewardBound = 42.0\n",
      "loss is 0.64122635\n",
      "It has episode count 5 and mean reward 79.6\n",
      "Processing mini batch 9\n",
      "rewardBound = 61.5\n",
      "loss is 0.6174405\n",
      "It has episode count 5 and mean reward 76.4\n",
      "Processing mini batch 10\n",
      "rewardBound = 71.0\n",
      "loss is 0.64290917\n",
      "It has episode count 5 and mean reward 81.4\n",
      "Processing mini batch 11\n",
      "rewardBound = 62.0\n",
      "loss is 0.61572343\n",
      "It has episode count 5 and mean reward 80.2\n",
      "Processing mini batch 12\n",
      "rewardBound = 80.5\n",
      "loss is 0.6075016\n",
      "It has episode count 5 and mean reward 91.0\n",
      "Processing mini batch 13\n",
      "rewardBound = 69.5\n",
      "loss is 0.58748424\n",
      "It has episode count 5 and mean reward 84.6\n",
      "Processing mini batch 14\n",
      "rewardBound = 75.0\n",
      "loss is 0.59414697\n",
      "It has episode count 5 and mean reward 101.6\n",
      "Processing mini batch 15\n",
      "rewardBound = 52.5\n",
      "loss is 0.5824375\n",
      "It has episode count 5 and mean reward 64.2\n",
      "Processing mini batch 16\n",
      "rewardBound = 85.5\n",
      "loss is 0.58827764\n",
      "It has episode count 5 and mean reward 103.0\n",
      "Processing mini batch 17\n",
      "rewardBound = 68.5\n",
      "loss is 0.5694465\n",
      "It has episode count 5 and mean reward 83.4\n",
      "Processing mini batch 18\n",
      "rewardBound = 71.0\n",
      "loss is 0.59044147\n",
      "It has episode count 5 and mean reward 83.2\n",
      "Processing mini batch 19\n",
      "rewardBound = 66.0\n",
      "loss is 0.5609448\n",
      "It has episode count 5 and mean reward 90.8\n",
      "Processing mini batch 20\n",
      "rewardBound = 101.0\n",
      "loss is 0.5747273\n",
      "It has episode count 5 and mean reward 139.4\n",
      "Processing mini batch 21\n",
      "rewardBound = 87.5\n",
      "loss is 0.5802875\n",
      "It has episode count 5 and mean reward 117.4\n",
      "Processing mini batch 22\n",
      "rewardBound = 98.5\n",
      "loss is 0.57903683\n",
      "It has episode count 5 and mean reward 154.8\n",
      "Processing mini batch 23\n",
      "rewardBound = 100.0\n",
      "loss is 0.5755086\n",
      "It has episode count 5 and mean reward 139.2\n",
      "Processing mini batch 24\n",
      "rewardBound = 109.0\n",
      "loss is 0.57689583\n",
      "It has episode count 5 and mean reward 135.2\n",
      "Processing mini batch 25\n",
      "rewardBound = 91.5\n",
      "loss is 0.5451208\n",
      "It has episode count 5 and mean reward 131.8\n",
      "Processing mini batch 26\n",
      "rewardBound = 111.5\n",
      "loss is 0.5446521\n",
      "It has episode count 5 and mean reward 134.6\n",
      "Processing mini batch 27\n",
      "rewardBound = 141.0\n",
      "loss is 0.52659947\n",
      "It has episode count 5 and mean reward 162.2\n",
      "Processing mini batch 28\n",
      "rewardBound = 156.5\n",
      "loss is 0.55400133\n",
      "It has episode count 5 and mean reward 177.2\n",
      "Processing mini batch 29\n",
      "rewardBound = 200.0\n",
      "loss is 0.54685396\n",
      "It has episode count 10 and mean reward 200.0\n",
      "Solved\n"
     ]
    }
   ],
   "source": [
    "while true {\n",
    "    print(\"Processing mini batch \\(batchIndex)\")\n",
    "    batchIndex += 1\n",
    "\n",
    "    let episodes = nextBatch(env: env, net: net, batchSize: batchSize, actionCount: actionCount)\n",
    "    let (input, target, episodeCount, meanReward) = filteringBatch(\n",
    "      episodes: episodes, actionCount: actionCount)\n",
    "\n",
    "    let gradients = withLearningPhase(.training) {\n",
    "        net.gradient { net -> Tensor<Float> in\n",
    "            let logits = net(input)\n",
    "            let loss = softmaxCrossEntropy(logits: logits, probabilities: target)\n",
    "            print(\"loss is \\(loss)\")\n",
    "            return loss\n",
    "        }\n",
    "    }\n",
    "    optimizer.update(&net.allDifferentiableVariables, along: gradients)\n",
    "\n",
    "    print(\"It has episode count \\(episodeCount) and mean reward \\(meanReward)\")\n",
    "    meanRewards.append(meanReward)\n",
    "\n",
    "    if meanReward > 199 {\n",
    "        print(\"Solved\")\n",
    "        break\n",
    "    }\n",
    "}"
   ]
  },
  {
   "cell_type": "markdown",
   "metadata": {
    "colab_type": "text",
    "id": "np3szYjSY0II"
   },
   "source": [
    "### 画图"
   ]
  },
  {
   "cell_type": "code",
   "execution_count": 13,
   "metadata": {
    "colab": {},
    "colab_type": "code",
    "id": "YOGyoyxlYyyW"
   },
   "outputs": [
    {
     "data": {
      "image/png": "[encoded data removed]",
      "text/plain": [
       "<Figure size 432x288 with 1 Axes>"
      ]
     },
     "metadata": {},
     "output_type": "display_data"
    },
    {
     "data": {
      "text/plain": [
       "None\n"
      ]
     },
     "execution_count": 13,
     "metadata": {},
     "output_type": "execute_result"
    }
   ],
   "source": [
    "plt.plot(meanRewards)\n",
    "plt.show()"
   ]
  },
  {
   "cell_type": "markdown",
   "metadata": {
    "colab_type": "text",
    "id": "EB9huPDde4n6"
   },
   "source": [
    "## 直接导入 C"
   ]
  },
  {
   "cell_type": "code",
   "execution_count": 18,
   "metadata": {
    "colab": {},
    "colab_type": "code",
    "id": "nQDTY64he5DO"
   },
   "outputs": [],
   "source": [
    "import Glibc"
   ]
  },
  {
   "cell_type": "code",
   "execution_count": 19,
   "metadata": {
    "colab": {},
    "colab_type": "code",
    "id": "fRPjLQvAe-Eb"
   },
   "outputs": [
    {
     "name": "stdout",
     "output_type": "stream",
     "text": [
      "我们可以直接使用 C！\r\n"
     ]
    }
   ],
   "source": [
    "let address = malloc(32)!\n",
    "let string = address.bindMemory(to: CChar.self, capacity: 32)\n",
    "\n",
    "// strcpy(string, \"Plain old C at Google I/O 2019!\")\n",
    "strcpy(string, \"我们可以直接写 C！\")\n",
    "puts(string)\n",
    "\n",
    "free(address)"
   ]
  },
  {
   "cell_type": "code",
   "execution_count": null,
   "metadata": {},
   "outputs": [],
   "source": []
  }
 ],
 "metadata": {
  "colab": {
   "collapsed_sections": [],
   "name": "Demo 2 - Interoperability.ipynb",
   "provenance": [],
   "version": "0.3.2"
  },
  "kernelspec": {
   "display_name": "Swift",
   "language": "swift",
   "name": "swift"
  },
  "language_info": {
   "file_extension": ".swift",
   "mimetype": "text/x-swift",
   "name": "swift",
   "version": ""
  }
 },
 "nbformat": 4,
 "nbformat_minor": 1
}
