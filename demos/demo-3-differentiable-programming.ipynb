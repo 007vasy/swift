{
  "nbformat": 4,
  "nbformat_minor": 0,
  "metadata": {
    "colab": {
      "name": "Demo 3 - Differentiable Programming.ipynb",
      "version": "0.3.2",
      "provenance": [],
      "collapsed_sections": []
    },
    "kernelspec": {
      "name": "swift",
      "display_name": "Swift"
    }
  },
  "cells": [
    {
      "cell_type": "markdown",
      "metadata": {
        "id": "sayFndrEcJ04",
        "colab_type": "text"
      },
      "source": [
        "# Differentiable Programming\n",
        "\n",
        "## Differentiate a function"
      ]
    },
    {
      "cell_type": "markdown",
      "metadata": {
        "id": "-KQZ64JReiwa",
        "colab_type": "text"
      },
      "source": [
        "# $$f(x, y) = x^2 + y \\ \\ \\ \\ \\ \\ \\ \\ \\ \\ f(3, 2) = 11$$"
      ]
    },
    {
      "cell_type": "code",
      "metadata": {
        "id": "kZRlD4utdPuX",
        "colab_type": "code",
        "colab": {}
      },
      "source": [
        "func f(_ x: Double, _ y: Double) -> Double {\n",
        "    return x * x + y\n",
        "}\n",
        "print(f(3, 2))"
      ],
      "execution_count": 0,
      "outputs": []
    },
    {
      "cell_type": "markdown",
      "metadata": {
        "id": "cmWspCP_evAF",
        "colab_type": "text"
      },
      "source": [
        "# $$\\nabla f(x, y) = \\langle 2x, 1 \\rangle \\ \\ \\ \\ \\ \\ \\ \\ \\ \\ \\nabla f(3, 2) = \\langle 6, 1 \\rangle$$"
      ]
    },
    {
      "cell_type": "code",
      "metadata": {
        "id": "lHuF1RMNevKf",
        "colab_type": "code",
        "colab": {}
      },
      "source": [
        "print(gradient(at: 3, 2, in: f))"
      ],
      "execution_count": 0,
      "outputs": []
    },
    {
      "cell_type": "markdown",
      "metadata": {
        "id": "tISIqfPwhebV",
        "colab_type": "text"
      },
      "source": [
        "# $$g(x, y) = f(2 * x, \\sqrt{y}) \\ \\ \\ \\ \\ \\ \\ \\ \\ \\ \\nabla g(x, y) = \\text{?}$$"
      ]
    },
    {
      "cell_type": "code",
      "metadata": {
        "id": "buejSCmvYvyN",
        "colab_type": "code",
        "colab": {}
      },
      "source": [
        "func g(_ x: Double, _ y: Double) -> Double {\n",
        "    return f(2 * x, y.squareRoot())\n",
        "}\n",
        "\n",
        "let z = valueWithGradient(at: 2, 4, in: g)\n",
        "\n",
        "print(z)"
      ],
      "execution_count": 0,
      "outputs": []
    },
    {
      "cell_type": "markdown",
      "metadata": {
        "id": "00MzGEfDYHJn",
        "colab_type": "text"
      },
      "source": [
        "## Create a custom differentiable type"
      ]
    },
    {
      "cell_type": "code",
      "metadata": {
        "id": "yVrHh-kfYJSG",
        "colab_type": "code",
        "colab": {}
      },
      "source": [
        "struct Point {\n",
        "    var x, y: Double\n",
        "}\n",
        "\n",
        "func dot(_ lhs: Point, _ rhs: Point) -> Double {\n",
        "    return lhs.x * rhs.x + lhs.y * rhs.y\n",
        "}\n",
        "\n",
        "let a = Point(x: 1, y: 2)\n",
        "let b = Point(x: 2, y: 1)\n",
        "\n",
        "let grads = gradient(at: a, b, in: dot)\n",
        "print(grads.0.x, grads.1.y)"
      ],
      "execution_count": 0,
      "outputs": []
    },
    {
      "cell_type": "code",
      "metadata": {
        "id": "oE212PQ9-pok",
        "colab_type": "code",
        "colab": {}
      },
      "source": [
        "extension Point {\n",
        "    func roundedSum() -> Double {\n",
        "        return Double(Int(x) + Int(y))\n",
        "    }\n",
        "}"
      ],
      "execution_count": 0,
      "outputs": []
    },
    {
      "cell_type": "markdown",
      "metadata": {
        "id": "HTelavYQwR_b",
        "colab_type": "text"
      },
      "source": [
        "## Custom Derivative"
      ]
    },
    {
      "cell_type": "code",
      "metadata": {
        "id": "3aex_h5nyyNz",
        "colab_type": "code",
        "colab": {}
      },
      "source": [
        "import Glibc\n",
        "\n",
        "gradient(at: 4) { x in\n",
        "    sqrt(x)\n",
        "}"
      ],
      "execution_count": 0,
      "outputs": []
    },
    {
      "cell_type": "markdown",
      "metadata": {
        "id": "Rt63uqKu7-v9",
        "colab_type": "text"
      },
      "source": [
        "# $$\\frac{d \\sqrt{x}}{d x} = \\frac{-1}{2 \\sqrt{x}}$$"
      ]
    },
    {
      "cell_type": "code",
      "metadata": {
        "id": "GQPg66k36a9j",
        "colab_type": "code",
        "colab": {}
      },
      "source": [
        "func squareRoot(_ x: Double) -> Double {\n",
        "    return sqrt(x)\n",
        "}\n",
        "\n",
        "func derivative(_ x: Double) -> (value: Double, pullback: (Double) -> Double) {\n",
        "    let y = sqrt(x)\n",
        "    return (value: y, pullback: { dy in -dy/(2 * y) })\n",
        "}"
      ],
      "execution_count": 0,
      "outputs": []
    },
    {
      "cell_type": "code",
      "metadata": {
        "id": "AcTWJsWG6upy",
        "colab_type": "code",
        "colab": {}
      },
      "source": [
        "gradient(at: 4) { x in\n",
        "    squareRoot(x)\n",
        "}"
      ],
      "execution_count": 0,
      "outputs": []
    }
  ]
}